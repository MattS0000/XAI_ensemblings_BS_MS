{
 "cells": [
  {
   "cell_type": "code",
   "execution_count": null,
   "id": "4b788484-c861-46c6-a4b0-9be47aca6cf8",
   "metadata": {},
   "outputs": [],
   "source": [
    "import os\n",
    "import pandas as pd\n",
    "import matplotlib.pyplot as plt\n",
    "import seaborn as sns"
   ]
  },
  {
   "cell_type": "code",
   "execution_count": null,
   "id": "8e6ebde7-fb6a-47e4-857b-5b476fabff9b",
   "metadata": {},
   "outputs": [],
   "source": [
    "dir_path = os.path.join('..','input','crop-and-weed-detection-data-with-bounding-boxes','agri_data', 'data')\n",
    "filenames = sorted(list(filter(\n",
    "    lambda s: s.endswith('.txt'), os.listdir(dir_path))))\n",
    "\n",
    "labels_and_boxes_tmp = [0] * len(filenames)\n",
    "for idx, filename in enumerate(filenames):\n",
    "    labels_and_boxes_tmp[idx] = pd.read_csv(os.path.join(dir_path, filename), header=None, sep=' ', names=['label', 'x_cen', 'y_cen', 'w', 'h'])\n",
    "    labels_and_boxes_tmp[idx]['filename'] = filename.split('.')[0] + '.jpeg'"
   ]
  },
  {
   "cell_type": "code",
   "execution_count": null,
   "id": "d39a09b3-7f60-48a0-8a04-62729e1b959f",
   "metadata": {},
   "outputs": [],
   "source": [
    "labels_and_boxes = pd.concat(labels_and_boxes_tmp, axis=0).reset_index(drop=True)\n",
    "labels_and_boxes"
   ]
  },
  {
   "cell_type": "code",
   "execution_count": null,
   "id": "09b34f66-7d2b-4171-b8a7-ea25bd2c62e2",
   "metadata": {},
   "outputs": [],
   "source": [
    "sns.displot(labels_and_boxes['label'])\n",
    "plt.show()"
   ]
  },
  {
   "cell_type": "code",
   "execution_count": null,
   "id": "ee9926ac-2c8b-406a-9b2f-3ca0878a3661",
   "metadata": {},
   "outputs": [],
   "source": [
    "instances_on_photo = labels_and_boxes.groupby('filename').count()['label']\n",
    "weeds_on_photo = labels_and_boxes.groupby('filename').sum('label')['label']"
   ]
  },
  {
   "cell_type": "code",
   "execution_count": null,
   "id": "74a253ef-ae19-4bff-b229-3a6a4881315b",
   "metadata": {},
   "outputs": [],
   "source": [
    "instances_on_photo.loc[(instances_on_photo != weeds_on_photo) & (instances_on_photo > 1)]"
   ]
  },
  {
   "cell_type": "markdown",
   "id": "d15b4686-0b5f-4f33-a212-b72208f479e3",
   "metadata": {},
   "source": [
    "Jest 146 zdjęć z chwastami i sezamem jednocześnie. Pierwszy model będzie się opierał na prostych zdjęciach z tylko jedną klasą."
   ]
  },
  {
   "cell_type": "code",
   "execution_count": null,
   "id": "28c133dd-0dbb-4456-911f-615e5f9847e9",
   "metadata": {},
   "outputs": [],
   "source": [
    "easy_files = instances_on_photo.loc[(instances_on_photo == weeds_on_photo) | (instances_on_photo <= 1)].reset_index()['filename']\n",
    "pd.DataFrame(easy_files)"
   ]
  },
  {
   "cell_type": "code",
   "execution_count": null,
   "id": "a3c0b122-b1b5-4d5f-aec2-4d8e054f92d4",
   "metadata": {},
   "outputs": [],
   "source": [
    "easy_labels_and_boxes = pd.DataFrame(easy_files).merge(labels_and_boxes, on='filename')"
   ]
  },
  {
   "cell_type": "code",
   "execution_count": null,
   "id": "3a932ff9-07c9-4955-b617-974f3ccac0bb",
   "metadata": {},
   "outputs": [],
   "source": [
    "sns.displot(easy_labels_and_boxes['label'])\n",
    "plt.show()"
   ]
  },
  {
   "cell_type": "code",
   "execution_count": null,
   "id": "db50ec16-8016-43e4-aa2b-25775920f41e",
   "metadata": {},
   "outputs": [],
   "source": [
    "easy_labels_and_boxes.to_csv(os.path.join('..','input','inz-data-prep','easy_labels_and_data.csv'))"
   ]
  },
  {
   "cell_type": "code",
   "execution_count": null,
   "id": "e3313c2d-d42a-46e3-aa88-1bebbd77bcd0",
   "metadata": {},
   "outputs": [],
   "source": []
  }
 ],
 "metadata": {
  "kernelspec": {
   "display_name": "Python 3 (ipykernel)",
   "language": "python",
   "name": "python3"
  },
  "language_info": {
   "codemirror_mode": {
    "name": "ipython",
    "version": 3
   },
   "file_extension": ".py",
   "mimetype": "text/x-python",
   "name": "python",
   "nbconvert_exporter": "python",
   "pygments_lexer": "ipython3",
   "version": "3.8.10"
  }
 },
 "nbformat": 4,
 "nbformat_minor": 5
}
